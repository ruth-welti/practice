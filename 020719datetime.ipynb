{
 "cells": [
  {
   "cell_type": "code",
   "execution_count": 1,
   "metadata": {},
   "outputs": [],
   "source": [
    "import datetime\n"
   ]
  },
  {
   "cell_type": "code",
   "execution_count": 2,
   "metadata": {},
   "outputs": [
    {
     "name": "stdout",
     "output_type": "stream",
     "text": [
      "2019-02-07 15:27:20.762048\n"
     ]
    }
   ],
   "source": [
    "currentDate=datetime.datetime.now()\n",
    "print(currentDate)"
   ]
  },
  {
   "cell_type": "code",
   "execution_count": 4,
   "metadata": {},
   "outputs": [
    {
     "name": "stdout",
     "output_type": "stream",
     "text": [
      "7\n",
      "2\n",
      "27\n",
      "2019-02-07\n"
     ]
    }
   ],
   "source": [
    "print(currentDate.day)\n",
    "print(currentDate.month)\n",
    "print(currentDate.minute)\n",
    "print(currentDate.date())"
   ]
  },
  {
   "cell_type": "code",
   "execution_count": 10,
   "metadata": {},
   "outputs": [
    {
     "name": "stdout",
     "output_type": "stream",
     "text": [
      "Feb\n",
      "February\n",
      "762048\n",
      "9999-12-31 23:59:59.999999\n"
     ]
    }
   ],
   "source": [
    "print(currentDate.strftime(\"%b\"))\n",
    "print(currentDate.strftime(\"%B\"))\n",
    "print(currentDate.microsecond)\n",
    "print(currentDate.max)"
   ]
  },
  {
   "cell_type": "code",
   "execution_count": 11,
   "metadata": {},
   "outputs": [
    {
     "name": "stdout",
     "output_type": "stream",
     "text": [
      "2019-06-23 02:15:00\n"
     ]
    }
   ],
   "source": [
    "print(datetime.datetime(2019,6,23,2,15,0))"
   ]
  },
  {
   "cell_type": "code",
   "execution_count": 12,
   "metadata": {},
   "outputs": [
    {
     "name": "stdin",
     "output_type": "stream",
     "text": [
      " 2019\n"
     ]
    },
    {
     "name": "stdout",
     "output_type": "stream",
     "text": [
      "2019-06-23 02:15:00\n"
     ]
    }
   ],
   "source": [
    "year = int(input())\n",
    "print(datetime.datetime(year,6,23,2,15,0))"
   ]
  },
  {
   "cell_type": "code",
   "execution_count": 22,
   "metadata": {},
   "outputs": [
    {
     "name": "stdout",
     "output_type": "stream",
     "text": [
      "251 days, 15:42:49.124351\n",
      "21742969.124351\n",
      "<class 'datetime.timedelta'>\n"
     ]
    }
   ],
   "source": [
    "start_date=datetime.datetime(2018,6,1)\n",
    "end_date=datetime.datetime.now()\n",
    "date_diff=end_date - start_date\n",
    "print(date_diff)\n",
    "print(date_diff.total_seconds())\n",
    "print(type(date_diff))"
   ]
  },
  {
   "cell_type": "code",
   "execution_count": 24,
   "metadata": {},
   "outputs": [
    {
     "name": "stdout",
     "output_type": "stream",
     "text": [
      "21742969\n"
     ]
    }
   ],
   "source": [
    "import math\n",
    "print(math.floor(date_diff.total_seconds()))"
   ]
  },
  {
   "cell_type": "code",
   "execution_count": null,
   "metadata": {},
   "outputs": [],
   "source": []
  },
  {
   "cell_type": "code",
   "execution_count": null,
   "metadata": {},
   "outputs": [],
   "source": []
  },
  {
   "cell_type": "code",
   "execution_count": null,
   "metadata": {},
   "outputs": [],
   "source": []
  }
 ],
 "metadata": {
  "kernelspec": {
   "display_name": "Python 3",
   "language": "python",
   "name": "python3"
  },
  "language_info": {
   "codemirror_mode": {
    "name": "ipython",
    "version": 3
   },
   "file_extension": ".py",
   "mimetype": "text/x-python",
   "name": "python",
   "nbconvert_exporter": "python",
   "pygments_lexer": "ipython3",
   "version": "3.7.1"
  }
 },
 "nbformat": 4,
 "nbformat_minor": 2
}
