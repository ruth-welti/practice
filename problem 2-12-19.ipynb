{
 "cells": [
  {
   "cell_type": "code",
   "execution_count": null,
   "metadata": {},
   "outputs": [],
   "source": [
    "# Write a script that calculates the day of the year for the current date and time.  \n",
    "#The script must output the DOY as an integer and the fraction of the day.\n",
    "\n"
   ]
  },
  {
   "cell_type": "code",
   "execution_count": null,
   "metadata": {},
   "outputs": [],
   "source": []
  },
  {
   "cell_type": "code",
   "execution_count": 2,
   "metadata": {},
   "outputs": [
    {
     "name": "stdout",
     "output_type": "stream",
     "text": [
      "time.struct_time(tm_year=2019, tm_mon=2, tm_mday=12, tm_hour=14, tm_min=46, tm_sec=37, tm_wday=1, tm_yday=43, tm_isdst=0)\n"
     ]
    }
   ],
   "source": [
    "import datetime\n",
    "import time\n",
    "print(time.localtime())\n"
   ]
  },
  {
   "cell_type": "code",
   "execution_count": 9,
   "metadata": {},
   "outputs": [
    {
     "name": "stdout",
     "output_type": "stream",
     "text": [
      "42 days, 0:00:00\n",
      "0.6152777777777778\n"
     ]
    }
   ],
   "source": [
    "start_date = datetime.datetime(2019,1,1)\n",
    "end_date = datetime.datetime(2019,2,12)\n",
    "days = end_date - start_date\n",
    "print(days)\n",
    "fraction = ((14*60)+46)/(24*60)\n",
    "print(fraction)"
   ]
  },
  {
   "cell_type": "code",
   "execution_count": 10,
   "metadata": {},
   "outputs": [],
   "source": [
    "date = datetime.datetime.now()\n",
    "dateOne = datetime.datetime(date.year,1,1)\n"
   ]
  },
  {
   "cell_type": "code",
   "execution_count": null,
   "metadata": {},
   "outputs": [],
   "source": []
  }
 ],
 "metadata": {
  "kernelspec": {
   "display_name": "Python 3",
   "language": "python",
   "name": "python3"
  },
  "language_info": {
   "codemirror_mode": {
    "name": "ipython",
    "version": 3
   },
   "file_extension": ".py",
   "mimetype": "text/x-python",
   "name": "python",
   "nbconvert_exporter": "python",
   "pygments_lexer": "ipython3",
   "version": "3.7.1"
  }
 },
 "nbformat": 4,
 "nbformat_minor": 2
}
