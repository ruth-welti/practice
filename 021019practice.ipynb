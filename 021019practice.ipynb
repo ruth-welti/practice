{
 "cells": [
  {
   "cell_type": "code",
   "execution_count": 4,
   "metadata": {},
   "outputs": [
    {
     "name": "stdin",
     "output_type": "stream",
     "text": [
      " Sweet Pea\n"
     ]
    },
    {
     "name": "stdout",
     "output_type": "stream",
     "text": [
      "My cat is called Sweet Pea\n"
     ]
    }
   ],
   "source": [
    "cat = input()\n",
    "print(\"My cat is called \" + cat)"
   ]
  },
  {
   "cell_type": "code",
   "execution_count": 1,
   "metadata": {},
   "outputs": [
    {
     "name": "stdout",
     "output_type": "stream",
     "text": [
      "The sky is blue as the ocean\n"
     ]
    }
   ],
   "source": [
    "print(\"The sky is {color} as the ocean\".format(color=\"blue\"))"
   ]
  },
  {
   "cell_type": "code",
   "execution_count": 7,
   "metadata": {},
   "outputs": [
    {
     "name": "stdin",
     "output_type": "stream",
     "text": [
      " Marley\n"
     ]
    },
    {
     "name": "stdout",
     "output_type": "stream",
     "text": [
      "My cat is called Marley\n"
     ]
    }
   ],
   "source": [
    "cat = input()\n",
    "print(\"My cat is called {}\".format(cat))"
   ]
  },
  {
   "cell_type": "code",
   "execution_count": 11,
   "metadata": {},
   "outputs": [
    {
     "name": "stdout",
     "output_type": "stream",
     "text": [
      "Your name\n"
     ]
    },
    {
     "name": "stdin",
     "output_type": "stream",
     "text": [
      " Ruth\n"
     ]
    },
    {
     "name": "stdout",
     "output_type": "stream",
     "text": [
      "Where are you from?\n"
     ]
    },
    {
     "name": "stdin",
     "output_type": "stream",
     "text": [
      " Connecticut\n"
     ]
    },
    {
     "name": "stdout",
     "output_type": "stream",
     "text": [
      "What do you love?\n"
     ]
    },
    {
     "name": "stdin",
     "output_type": "stream",
     "text": [
      " lipids\n"
     ]
    },
    {
     "name": "stdout",
     "output_type": "stream",
     "text": [
      "Hi Ruth. This is the first time I met someone from Connecticut who loves lipids.\n"
     ]
    }
   ],
   "source": [
    "print(\"Your name\")\n",
    "name = input()\n",
    "print(\"Where are you from?\")\n",
    "state = input()\n",
    "print(\"What do you love?\")\n",
    "loves = input()\n",
    "print(\"Hi \" + name + \". This is the first time I met someone from \" + state + \" who loves \" + loves+\".\")"
   ]
  },
  {
   "cell_type": "markdown",
   "metadata": {},
   "source": [
    "###### name = input(\"Your name\")\n",
    "state = input(\"Where are you from?\")\n",
    "loves = input(\"What do you love?\")\n",
    "print(\"Hi {}! This is the first time I met someone from {} who loves {}!\".format(name,state,loves))"
   ]
  },
  {
   "cell_type": "code",
   "execution_count": 18,
   "metadata": {},
   "outputs": [
    {
     "name": "stdin",
     "output_type": "stream",
     "text": [
      "Height in inches 68\n"
     ]
    },
    {
     "name": "stdout",
     "output_type": "stream",
     "text": [
      "Your height in cm is 172.72\n"
     ]
    }
   ],
   "source": [
    "height_inches = float(input(\"Height in inches\"))\n",
    "height_cm = int(height_inches) * 2.54\n",
    "print(\"Your height in cm is {}\".format(height_cm))"
   ]
  },
  {
   "cell_type": "code",
   "execution_count": 27,
   "metadata": {},
   "outputs": [
    {
     "name": "stdout",
     "output_type": "stream",
     "text": [
      "<module 'time' (built-in)>\n",
      "<built-in function localtime>\n",
      "time.struct_time(tm_year=2019, tm_mon=2, tm_mday=10, tm_hour=22, tm_min=40, tm_sec=49, tm_wday=6, tm_yday=41, tm_isdst=0)\n",
      "time.struct_time(tm_year=2019, tm_mon=2, tm_mday=10, tm_hour=22, tm_min=40, tm_sec=49, tm_wday=6, tm_yday=41, tm_isdst=0)\n"
     ]
    }
   ],
   "source": [
    "import time\n",
    "print(time)\n",
    "print(time.localtime)\n",
    "print(time.localtime())\n",
    "print(time.localtime())"
   ]
  },
  {
   "cell_type": "code",
   "execution_count": 2,
   "metadata": {},
   "outputs": [
    {
     "name": "stdout",
     "output_type": "stream",
     "text": [
      "The sky is blue as the ocean\n"
     ]
    }
   ],
   "source": [
    "print(\"The sky is %s as the ocean\" % \"blue\")"
   ]
  },
  {
   "cell_type": "code",
   "execution_count": 3,
   "metadata": {},
   "outputs": [
    {
     "name": "stdout",
     "output_type": "stream",
     "text": [
      "The sky is blue as the ocean\n"
     ]
    }
   ],
   "source": [
    "print(\"The sky is {} as the ocean\".format(\"blue\"))\n"
   ]
  },
  {
   "cell_type": "code",
   "execution_count": 4,
   "metadata": {},
   "outputs": [
    {
     "name": "stdout",
     "output_type": "stream",
     "text": [
      "The sky is %s as the ocean blue\n"
     ]
    }
   ],
   "source": [
    "print(\"The sky is %s as the ocean\" , \"blue\")"
   ]
  },
  {
   "cell_type": "code",
   "execution_count": 8,
   "metadata": {},
   "outputs": [
    {
     "name": "stdout",
     "output_type": "stream",
     "text": [
      "The result is 7519.0\n"
     ]
    }
   ],
   "source": [
    "import datetime\n",
    "start_date = datetime.datetime(1998,6,1)\n",
    "end_date = datetime.datetime(2019,1,1)\n",
    "diff_date = end_date - start_date\n",
    "print(\"The result is\",diff_date.total_seconds()/86400)"
   ]
  },
  {
   "cell_type": "code",
   "execution_count": 15,
   "metadata": {},
   "outputs": [
    {
     "name": "stdout",
     "output_type": "stream",
     "text": [
      "3.141592653589793\n"
     ]
    }
   ],
   "source": [
    "import math\n",
    "diameter = 2\n",
    "radius = diameter/2\n",
    "area = math.pi * radius**2\n",
    "print(area)\n"
   ]
  },
  {
   "cell_type": "raw",
   "metadata": {},
   "source": [
    "import os\n",
    "my_dir = os.getcwd()\n",
    "print(my_dir)\n",
    "print(type(my_dir))"
   ]
  },
  {
   "cell_type": "code",
   "execution_count": 16,
   "metadata": {},
   "outputs": [
    {
     "data": {
      "text/plain": [
       "0.19058838705803094"
      ]
     },
     "execution_count": 16,
     "metadata": {},
     "output_type": "execute_result"
    }
   ],
   "source": [
    "import random\n",
    "random.random()"
   ]
  },
  {
   "cell_type": "code",
   "execution_count": 18,
   "metadata": {},
   "outputs": [
    {
     "data": {
      "text/plain": [
       "40.73734848897969"
      ]
     },
     "execution_count": 18,
     "metadata": {},
     "output_type": "execute_result"
    }
   ],
   "source": [
    "random.random()*57"
   ]
  },
  {
   "cell_type": "code",
   "execution_count": 35,
   "metadata": {},
   "outputs": [
    {
     "name": "stdout",
     "output_type": "stream",
     "text": [
      "101.82208624438306\n"
     ]
    }
   ],
   "source": [
    "min_val = 23\n",
    "max_val =123\n",
    "rand_val = ((max_val - min_val)*random.random())+min_val\n",
    "print(rand_val)"
   ]
  },
  {
   "cell_type": "code",
   "execution_count": 39,
   "metadata": {},
   "outputs": [
    {
     "data": {
      "text/plain": [
       "12"
      ]
     },
     "execution_count": 39,
     "metadata": {},
     "output_type": "execute_result"
    }
   ],
   "source": [
    "random.randrange(20) # integer"
   ]
  },
  {
   "cell_type": "code",
   "execution_count": 41,
   "metadata": {},
   "outputs": [
    {
     "data": {
      "text/plain": [
       "50"
      ]
     },
     "execution_count": 41,
     "metadata": {},
     "output_type": "execute_result"
    }
   ],
   "source": [
    "random.randint(45,59)\n",
    "random.randint(45,59)\n",
    "random.randint(45,59)\n",
    "random.randint(45,59)\n",
    "random.randint(45,59)\n",
    "\n"
   ]
  },
  {
   "cell_type": "code",
   "execution_count": 42,
   "metadata": {},
   "outputs": [
    {
     "data": {
      "text/plain": [
       "37"
      ]
     },
     "execution_count": 42,
     "metadata": {},
     "output_type": "execute_result"
    }
   ],
   "source": [
    "step = 5\n",
    "random.randrange(12,122,step)\n",
    "\n",
    "\n",
    "\n"
   ]
  },
  {
   "cell_type": "code",
   "execution_count": 43,
   "metadata": {},
   "outputs": [
    {
     "name": "stdout",
     "output_type": "stream",
     "text": [
      "PC\n"
     ]
    }
   ],
   "source": [
    "array = ['PC','PG','PE']\n",
    "rnd_single_val =random.choice(array)\n",
    "print(rnd_single_val)"
   ]
  }
 ],
 "metadata": {
  "kernelspec": {
   "display_name": "Python 3",
   "language": "python",
   "name": "python3"
  },
  "language_info": {
   "codemirror_mode": {
    "name": "ipython",
    "version": 3
   },
   "file_extension": ".py",
   "mimetype": "text/x-python",
   "name": "python",
   "nbconvert_exporter": "python",
   "pygments_lexer": "ipython3",
   "version": "3.7.1"
  }
 },
 "nbformat": 4,
 "nbformat_minor": 2
}
